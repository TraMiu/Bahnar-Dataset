{
 "cells": [
  {
   "cell_type": "code",
   "execution_count": 6,
   "metadata": {},
   "outputs": [],
   "source": [
    "import os\n",
    "from underthesea import word_tokenize\n",
    "\n",
    "def word_segment(lines):\n",
    "    \n",
    "    # Remove the punctuation\n",
    "    word_segmented_lines = [(word_tokenize(line, format=\"text\")+\"\\n\") for line in lines]\n",
    "    return word_segmented_lines\n",
    "   \n",
    "\n",
    "# Paths for the source and destination folders\n",
    "source_folder = 'processed/vi'\n",
    "destination_folder = 'segmented/vi'\n",
    "\n",
    "# Check if destination folder exists, if not, create it\n",
    "if not os.path.exists(destination_folder):\n",
    "    os.makedirs(destination_folder)\n",
    "\n",
    "# Process each file in the source folder\n",
    "for filename in os.listdir(source_folder):\n",
    "    if filename.endswith('.txt'):\n",
    "        file_path = os.path.join(source_folder, filename)\n",
    "        with open(file_path, 'r', encoding='utf-8') as file:\n",
    "            lines = file.readlines()\n",
    "\n",
    "        segmented_lines = word_segment(lines)\n",
    "            \n",
    "\n",
    "        # Save the processed text in the destination folder\n",
    "        output_file_path = os.path.join(destination_folder, filename)\n",
    "        with open(output_file_path, 'w', encoding='utf-8') as output_file:\n",
    "            for line in segmented_lines:\n",
    "                output_file.writelines(line)\n"
   ]
  },
  {
   "cell_type": "code",
   "execution_count": 21,
   "metadata": {},
   "outputs": [
    {
     "data": {
      "text/plain": [
       "[('abrĕn', 'ti'),\n",
       " ('abrĕn', 'jưng'),\n",
       " ('achom', 'kruôĭ', \"'bŏng\"),\n",
       " ('adal', 'adal'),\n",
       " ('adal', 'adal'),\n",
       " ('adal', 'adal'),\n",
       " ('adrih', \"'ba\"),\n",
       " ('adrih', \"'ba\"),\n",
       " ('adrơ', 'măt'),\n",
       " ('adrơ', 'măt')]"
      ]
     },
     "execution_count": 21,
     "metadata": {},
     "output_type": "execute_result"
    }
   ],
   "source": [
    "fixed_words = []\n",
    "\n",
    "with open('dictionary/ba/dict_ba_khang.txt', 'r', encoding='utf-8') as file:\n",
    "    fixed_words = file.read().splitlines()\n",
    "    \n",
    "fixed_words\n",
    "dictionary = []\n",
    "for word in fixed_words:\n",
    "    if(len(word.split(\" \")) > 1):\n",
    "        dictionary.append(tuple(word.split(\" \")))\n",
    "    \n",
    "dictionary[:10]\n"
   ]
  },
  {
   "cell_type": "code",
   "execution_count": 32,
   "metadata": {},
   "outputs": [],
   "source": [
    "import os\n",
    "\n",
    "\n",
    "# import MWETokenizer() method from nltk \n",
    "from nltk.tokenize import MWETokenizer \n",
    "\n",
    "# Create a reference variable for Class MWETokenizer \n",
    "tk = MWETokenizer(dictionary) \n",
    "  \n",
    "\n",
    "def word_segment(lines):\n",
    "    \n",
    "    # Remove the punctuation\n",
    "    word_segmented_lines = [(\" \".join(tk.tokenize(line.split()))+\"\\n\") for line in lines]\n",
    "    return word_segmented_lines\n",
    "   \n",
    "\n",
    "# Paths for the source and destination folders\n",
    "source_folder = 'processed/ba'\n",
    "destination_folder = 'segmented/ba'\n",
    "\n",
    "# Check if destination folder exists, if not, create it\n",
    "if not os.path.exists(destination_folder):\n",
    "    os.makedirs(destination_folder)\n",
    "\n",
    "# Process each file in the source folder\n",
    "for filename in os.listdir(source_folder):\n",
    "    if filename.endswith('.txt'):\n",
    "        file_path = os.path.join(source_folder, filename)\n",
    "        with open(file_path, 'r', encoding='utf-8') as file:\n",
    "            lines = file.readlines()\n",
    "\n",
    "        segmented_lines = word_segment(lines)\n",
    "            \n",
    "\n",
    "        # Save the processed text in the destination folder\n",
    "        output_file_path = os.path.join(destination_folder, filename)\n",
    "        with open(output_file_path, 'w', encoding='utf-8') as output_file:\n",
    "            for line in segmented_lines:\n",
    "                output_file.writelines(line)\n"
   ]
  }
 ],
 "metadata": {
  "kernelspec": {
   "display_name": "Python 3",
   "language": "python",
   "name": "python3"
  },
  "language_info": {
   "codemirror_mode": {
    "name": "ipython",
    "version": 3
   },
   "file_extension": ".py",
   "mimetype": "text/x-python",
   "name": "python",
   "nbconvert_exporter": "python",
   "pygments_lexer": "ipython3",
   "version": "3.9.0"
  }
 },
 "nbformat": 4,
 "nbformat_minor": 2
}
